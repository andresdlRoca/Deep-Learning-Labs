{
 "cells": [
  {
   "cell_type": "markdown",
   "metadata": {},
   "source": [
    "# Deep Learning\n",
    "# Laboratorio 6 - Recomenadaciones basadas en contenido\n",
    "\n",
    "## Integrantes:\n",
    "* Andres de la Roca\n",
    "* Jun Woo Lee"
   ]
  },
  {
   "cell_type": "markdown",
   "metadata": {},
   "source": [
    "Un sistema de recomendacion basado en contenido son principalmente utilizados para realizar recomendaciones en base a los datos encontrados en el dataset como tal y sin tratar de realizar operaciones que relacionan explícitamente una variable como el usuario con el libro directamente, sino que esta relación sea más implicita y que a partir de esto realice las predicciones necesarias para ofrecer una recomendación.\n"
   ]
  },
  {
   "cell_type": "code",
   "execution_count": 155,
   "metadata": {},
   "outputs": [
    {
     "data": {
      "text/html": [
       "        <script type=\"text/javascript\">\n",
       "        window.PlotlyConfig = {MathJaxConfig: 'local'};\n",
       "        if (window.MathJax && window.MathJax.Hub && window.MathJax.Hub.Config) {window.MathJax.Hub.Config({SVG: {font: \"STIX-Web\"}});}\n",
       "        if (typeof require !== 'undefined') {\n",
       "        require.undef(\"plotly\");\n",
       "        requirejs.config({\n",
       "            paths: {\n",
       "                'plotly': ['https://cdn.plot.ly/plotly-2.18.0.min']\n",
       "            }\n",
       "        });\n",
       "        require(['plotly'], function(Plotly) {\n",
       "            window._Plotly = Plotly;\n",
       "        });\n",
       "        }\n",
       "        </script>\n",
       "        "
      ]
     },
     "metadata": {},
     "output_type": "display_data"
    }
   ],
   "source": [
    "import numpy as np\n",
    "import pandas as pd\n",
    "import matplotlib.pyplot as plt\n",
    "import seaborn as sns\n",
    "import plotly.express as px\n",
    "from plotly.offline import init_notebook_mode\n",
    "init_notebook_mode(connected=True)"
   ]
  },
  {
   "cell_type": "code",
   "execution_count": 156,
   "metadata": {},
   "outputs": [
    {
     "name": "stderr",
     "output_type": "stream",
     "text": [
      "C:\\Users\\Jun\\AppData\\Local\\Temp\\ipykernel_41276\\3162812482.py:3: DtypeWarning:\n",
      "\n",
      "Columns (3) have mixed types. Specify dtype option on import or set low_memory=False.\n",
      "\n"
     ]
    }
   ],
   "source": [
    "df_ratings = pd.read_csv('./data/Ratings.csv')\n",
    "df_users = pd.read_csv('./data/Users.csv')\n",
    "df_books = pd.read_csv('./data/Books.csv')"
   ]
  },
  {
   "cell_type": "code",
   "execution_count": 157,
   "metadata": {},
   "outputs": [
    {
     "name": "stdout",
     "output_type": "stream",
     "text": [
      "<class 'pandas.core.frame.DataFrame'>\n",
      "RangeIndex: 1149780 entries, 0 to 1149779\n",
      "Data columns (total 3 columns):\n",
      " #   Column       Non-Null Count    Dtype \n",
      "---  ------       --------------    ----- \n",
      " 0   User-ID      1149780 non-null  int64 \n",
      " 1   ISBN         1149780 non-null  object\n",
      " 2   Book-Rating  1149780 non-null  int64 \n",
      "dtypes: int64(2), object(1)\n",
      "memory usage: 26.3+ MB\n"
     ]
    }
   ],
   "source": [
    "df_ratings.info()"
   ]
  },
  {
   "cell_type": "code",
   "execution_count": 158,
   "metadata": {},
   "outputs": [
    {
     "name": "stdout",
     "output_type": "stream",
     "text": [
      "<class 'pandas.core.frame.DataFrame'>\n",
      "RangeIndex: 278858 entries, 0 to 278857\n",
      "Data columns (total 3 columns):\n",
      " #   Column    Non-Null Count   Dtype  \n",
      "---  ------    --------------   -----  \n",
      " 0   User-ID   278858 non-null  int64  \n",
      " 1   Location  278858 non-null  object \n",
      " 2   Age       168096 non-null  float64\n",
      "dtypes: float64(1), int64(1), object(1)\n",
      "memory usage: 6.4+ MB\n"
     ]
    }
   ],
   "source": [
    "df_users.info()"
   ]
  },
  {
   "cell_type": "code",
   "execution_count": 159,
   "metadata": {},
   "outputs": [
    {
     "name": "stdout",
     "output_type": "stream",
     "text": [
      "<class 'pandas.core.frame.DataFrame'>\n",
      "RangeIndex: 271360 entries, 0 to 271359\n",
      "Data columns (total 8 columns):\n",
      " #   Column               Non-Null Count   Dtype \n",
      "---  ------               --------------   ----- \n",
      " 0   ISBN                 271360 non-null  object\n",
      " 1   Book-Title           271360 non-null  object\n",
      " 2   Book-Author          271359 non-null  object\n",
      " 3   Year-Of-Publication  271360 non-null  object\n",
      " 4   Publisher            271358 non-null  object\n",
      " 5   Image-URL-S          271360 non-null  object\n",
      " 6   Image-URL-M          271360 non-null  object\n",
      " 7   Image-URL-L          271357 non-null  object\n",
      "dtypes: object(8)\n",
      "memory usage: 16.6+ MB\n"
     ]
    }
   ],
   "source": [
    "df_books.info()"
   ]
  },
  {
   "cell_type": "code",
   "execution_count": 160,
   "metadata": {},
   "outputs": [],
   "source": [
    "df_books = df_books[~df_books['Year-Of-Publication'].isin(['DK Publishing Inc', 'Gallimard'])]\n",
    "df_books['Year-Of-Publication'] = pd.to_numeric(df_books['Year-Of-Publication'])"
   ]
  },
  {
   "cell_type": "markdown",
   "metadata": {},
   "source": [
    "* Dataset Ratings:\n",
    "  * User-ID: User ID\n",
    "  * ISBN: ISBN number\n",
    "  * Book-Rating: Rating of book given by user  \n",
    "\n",
    "\n",
    "<br>\n",
    "\n",
    "* Dataset Users:\n",
    "  * User-ID: User ID\n",
    "  * Location: Location of user\n",
    "  * Age: Age of user  \n",
    "\n",
    "<br>\n",
    "  \n",
    "  \n",
    "* Dataset Books:\n",
    "  * ISBN: ISBN number\n",
    "  * Book-Title: Book title\n",
    "  * Book-Author: Book author\n",
    "  * Year-Of-Publication: Year of publication\n",
    "  * Publisher: Publisher of book\n",
    "  * Image-URL-S: URL of image cover small\n",
    "  * Image-URL-M: URL of image cover medium\n",
    "  * Image-URL-L: URL of image cover large"
   ]
  },
  {
   "cell_type": "code",
   "execution_count": 161,
   "metadata": {},
   "outputs": [],
   "source": [
    "## EDA"
   ]
  },
  {
   "cell_type": "code",
   "execution_count": 162,
   "metadata": {},
   "outputs": [],
   "source": [
    "def plot_distribution(data, title):\n",
    "    sns.displot(data, kde=True, color='green')\n",
    "    plt.title(title, fontfamily='serif', fontsize=20, fontweight='bold')"
   ]
  },
  {
   "cell_type": "code",
   "execution_count": 163,
   "metadata": {},
   "outputs": [
    {
     "data": {
      "image/png": "[encoded data removed]",
      "text/plain": [
       "<Figure size 800x600 with 1 Axes>"
      ]
     },
     "metadata": {},
     "output_type": "display_data"
    }
   ],
   "source": [
    "# Ratings distribution\n",
    "plt.figure(figsize=(8, 6))\n",
    "sns.countplot(x='Book-Rating', data=df_ratings, palette='viridis')\n",
    "plt.title('Distribution of Book Ratings')\n",
    "plt.xlabel('Rating')\n",
    "plt.ylabel('Number of Ratings')\n",
    "plt.show()\n",
    "\n",
    "\n",
    "\n",
    "\n"
   ]
  },
  {
   "cell_type": "code",
   "execution_count": 164,
   "metadata": {},
   "outputs": [
    {
     "data": {
      "image/png": "[encoded data removed]",
      "text/plain": [
       "<Figure size 800x600 with 1 Axes>"
      ]
     },
     "metadata": {},
     "output_type": "display_data"
    }
   ],
   "source": [
    "# Number of ratings per user\n",
    "ratings_per_user = df_ratings['User-ID'].value_counts()\n",
    "plt.figure(figsize=(8, 6))\n",
    "sns.histplot(ratings_per_user, bins=30, kde=False, color='green')\n",
    "plt.title('Number of Ratings per User')\n",
    "plt.xlabel('Number of Ratings')\n",
    "plt.ylabel('Number of Users')\n",
    "plt.xscale('log')\n",
    "plt.yscale('log')\n",
    "plt.show()\n"
   ]
  },
  {
   "cell_type": "code",
   "execution_count": 165,
   "metadata": {},
   "outputs": [
    {
     "data": {
      "image/png": "[encoded data removed]",
      "text/plain": [
       "<Figure size 800x600 with 1 Axes>"
      ]
     },
     "metadata": {},
     "output_type": "display_data"
    }
   ],
   "source": [
    "# Number of ratings per book\n",
    "ratings_per_book = df_ratings['ISBN'].value_counts()\n",
    "plt.figure(figsize=(8, 6))\n",
    "sns.histplot(ratings_per_book, bins=30, kde=False, color='blue')\n",
    "plt.title('Number of Ratings per Book')\n",
    "plt.xlabel('Number of Ratings')\n",
    "plt.ylabel('Number of Books')\n",
    "plt.xscale('log')\n",
    "plt.yscale('log')\n",
    "plt.show()"
   ]
  },
  {
   "cell_type": "code",
   "execution_count": 166,
   "metadata": {},
   "outputs": [
    {
     "name": "stdout",
     "output_type": "stream",
     "text": [
      "Matrix Sparsity: 1.0000\n"
     ]
    }
   ],
   "source": [
    "# Calculate matrix sparsity\n",
    "num_users = df_users['User-ID'].nunique()\n",
    "num_books = df_books['ISBN'].nunique()\n",
    "matrix_size = num_users * num_books\n",
    "num_ratings = df_ratings.shape[0]\n",
    "sparsity = 1 - (num_ratings / matrix_size)\n",
    "print(f'Matrix Sparsity: {sparsity:.4f}')"
   ]
  },
  {
   "cell_type": "markdown",
   "metadata": {},
   "source": [
    "## Preprocesamiento"
   ]
  },
  {
   "cell_type": "code",
   "execution_count": 167,
   "metadata": {},
   "outputs": [],
   "source": [
    "from sklearn.impute import SimpleImputer\n",
    "from sklearn.model_selection import train_test_split\n",
    "from sklearn.preprocessing import MinMaxScaler\n",
    "import pandas as pd"
   ]
  },
  {
   "cell_type": "code",
   "execution_count": 168,
   "metadata": {},
   "outputs": [],
   "source": [
    "df_merging = df_ratings.merge(df_users, on='User-ID', how='left').merge(df_books, on='ISBN', how='left')"
   ]
  },
  {
   "cell_type": "code",
   "execution_count": 169,
   "metadata": {},
   "outputs": [],
   "source": [
    "user_ids = df_merging['User-ID'].astype('category').cat.codes\n",
    "book_ids = df_merging['ISBN'].astype('category').cat.codes\n",
    "\n",
    "# Replace the 'User-ID' and 'ISBN' with their encoded versions\n",
    "df_merging['User-ID'] = user_ids\n",
    "df_merging['ISBN'] = book_ids\n"
   ]
  },
  {
   "cell_type": "code",
   "execution_count": 170,
   "metadata": {},
   "outputs": [],
   "source": [
    "impute_median = SimpleImputer(strategy='median')\n",
    "df_merging['Age'] = impute_median.fit_transform(df_merging[['Age']])\n"
   ]
  },
  {
   "cell_type": "code",
   "execution_count": 171,
   "metadata": {},
   "outputs": [],
   "source": [
    "ratings_scaler = MinMaxScaler()\n",
    "df_merging['Book-Rating'] = ratings_scaler.fit_transform(df_merging[['Book-Rating']])\n"
   ]
  },
  {
   "cell_type": "code",
   "execution_count": 172,
   "metadata": {},
   "outputs": [],
   "source": [
    "train_data, test_data = train_test_split(df_merging, test_size=0.2, random_state=42)\n"
   ]
  },
  {
   "cell_type": "code",
   "execution_count": 173,
   "metadata": {},
   "outputs": [],
   "source": [
    "X_train = [train_data['User-ID'].values, train_data['ISBN'].values]\n",
    "y_train = train_data['Book-Rating'].values\n",
    "\n",
    "X_test = [test_data['User-ID'].values, test_data['ISBN'].values]\n",
    "y_test = test_data['Book-Rating'].values\n"
   ]
  },
  {
   "cell_type": "markdown",
   "metadata": {},
   "source": [
    "## Modelo"
   ]
  },
  {
   "cell_type": "code",
   "execution_count": 174,
   "metadata": {},
   "outputs": [],
   "source": [
    "import tensorflow as tf\n",
    "from tensorflow.keras.models import Model\n",
    "from tensorflow.keras.layers import Input, Embedding, Flatten, Dot, Dense, Concatenate\n",
    "from tensorflow.keras.optimizers import Adam\n",
    "import joblib"
   ]
  },
  {
   "cell_type": "code",
   "execution_count": 175,
   "metadata": {},
   "outputs": [],
   "source": [
    "# After preprocessing and before splitting the data into train and test\n",
    "num_users = df_merging['User-ID'].nunique()\n",
    "num_books = df_merging['ISBN'].nunique()\n",
    "\n",
    "# This assumes that df_merging has 'User-ID' and 'ISBN' columns with categorical data already converted to codes\n",
    "\n",
    "\n",
    "# If you haven't converted 'User-ID' and 'ISBN' to codes, do it now\n",
    "user_ids = df_merging['User-ID'].astype('category').cat.codes\n",
    "book_ids = df_merging['ISBN'].astype('category').cat.codes\n",
    "\n",
    "# Replace the 'User-ID' and 'ISBN' with their encoded versions\n",
    "df_merging['User-ID'] = user_ids\n",
    "df_merging['ISBN'] = book_ids"
   ]
  },
  {
   "cell_type": "code",
   "execution_count": 176,
   "metadata": {},
   "outputs": [],
   "source": [
    "# Define the size of the embeddings\n",
    "embedding_size = 15\n",
    "\n",
    "# User Embedding Path\n",
    "user_id_input = Input(shape=(1,), name='user_id_input')\n",
    "user_embedding = Embedding(input_dim=num_users + 1, output_dim=embedding_size, name='user_embedding')(user_id_input)\n",
    "user_vec = Flatten(name='flatten_user')(user_embedding)\n",
    "\n",
    "# Book Embedding Path\n",
    "book_id_input = Input(shape=(1,), name='book_id_input')\n",
    "book_embedding = Embedding(input_dim=num_books + 1, output_dim=embedding_size, name='book_embedding')(book_id_input)\n",
    "book_vec = Flatten(name='flatten_book')(book_embedding)"
   ]
  },
  {
   "cell_type": "code",
   "execution_count": 177,
   "metadata": {},
   "outputs": [],
   "source": [
    "# Dot Product of Book and User Embeddings\n",
    "product = Dot(name='dot_product', axes=1)([book_vec, user_vec])"
   ]
  },
  {
   "cell_type": "code",
   "execution_count": 182,
   "metadata": {},
   "outputs": [],
   "source": [
    "# Add fully connected layers\n",
    "fc1 = Dense(128, activation='relu')(product)\n",
    "fc2 = Dense(1, activation='sigmoid')(fc1)  # Changed to sigmoid for outputs between 0 and 1\n",
    "\n",
    "model = Model(inputs=[user_id_input, book_id_input], outputs=fc2)\n",
    "model.compile(optimizer=Adam(0.001), loss='mean_squared_error')"
   ]
  },
  {
   "cell_type": "code",
   "execution_count": 183,
   "metadata": {},
   "outputs": [
    {
     "name": "stdout",
     "output_type": "stream",
     "text": [
      "Epoch 1/5\n",
      "11498/11498 [==============================] - 485s 42ms/step - loss: 0.1462 - val_loss: 0.1405\n",
      "Epoch 2/5\n",
      "11498/11498 [==============================] - 485s 42ms/step - loss: 0.0644 - val_loss: 0.1776\n",
      "Epoch 3/5\n",
      "11498/11498 [==============================] - 486s 42ms/step - loss: 0.0337 - val_loss: 0.1773\n",
      "Epoch 4/5\n",
      "11498/11498 [==============================] - 487s 42ms/step - loss: 0.0237 - val_loss: 0.1812\n",
      "Epoch 5/5\n",
      "11498/11498 [==============================] - 479s 42ms/step - loss: 0.0185 - val_loss: 0.1946\n"
     ]
    },
    {
     "data": {
      "text/plain": [
       "<keras.src.callbacks.History at 0x20d858da710>"
      ]
     },
     "execution_count": 183,
     "metadata": {},
     "output_type": "execute_result"
    }
   ],
   "source": [
    "# Split the data\n",
    "train_data, test_data = train_test_split(df_merging, test_size=0.2, random_state=42)\n",
    "\n",
    "# Prepare the inputs\n",
    "X_train = [train_data['User-ID'].values, train_data['ISBN'].values]\n",
    "y_train = train_data['Book-Rating'].values\n",
    "X_test = [test_data['User-ID'].values, test_data['ISBN'].values]\n",
    "y_test = test_data['Book-Rating'].values\n",
    "\n",
    "# Fit the model using the training data\n",
    "model.fit(X_train, y_train, epochs=5, batch_size=64, validation_split=0.2)\n"
   ]
  },
  {
   "cell_type": "markdown",
   "metadata": {},
   "source": [
    "## Obteniendo recomendaciones"
   ]
  },
  {
   "cell_type": "code",
   "execution_count": 184,
   "metadata": {},
   "outputs": [
    {
     "name": "stdout",
     "output_type": "stream",
     "text": [
      "10643/10643 [==============================] - 6s 521us/step\n",
      "                                               Book-Title    Rating\n",
      "81864                                           Shameless  7.086408\n",
      "87591   The Pleiadian Agenda: A New Cosmology for the ...  7.057976\n",
      "113663  Introduction to Database Systems (Systems Prog...  6.971127\n",
      "221284  The Bread of Those Early Years (European Class...  6.968082\n",
      "103494  Khrushchev and the First Russian Spring: The E...  6.924731\n",
      "256993      Canada, cancelled because of lack of interest  6.849044\n",
      "9913    Call Me Crazy : A Memoir (Lisa Drew Books (Har...  6.811523\n",
      "27725                                              Hunger  6.808276\n",
      "108215                        Too Many Babas (I Can Read)  6.775596\n",
      "149346   The Canoe Trip Mystery #40 (The Boxcar Children)  6.769440\n"
     ]
    },
    {
     "name": "stderr",
     "output_type": "stream",
     "text": [
      "C:\\Users\\Jun\\AppData\\Local\\Temp\\ipykernel_41276\\3298128328.py:34: SettingWithCopyWarning:\n",
      "\n",
      "\n",
      "A value is trying to be set on a copy of a slice from a DataFrame.\n",
      "Try using .loc[row_indexer,col_indexer] = value instead\n",
      "\n",
      "See the caveats in the documentation: https://pandas.pydata.org/pandas-docs/stable/user_guide/indexing.html#returning-a-view-versus-a-copy\n",
      "\n"
     ]
    }
   ],
   "source": [
    "# Create a mapping from encoded book IDs to book titles\n",
    "book_id_to_title_map = pd.Series(df_books['Book-Title'].values, index=df_books.index).to_dict()\n",
    "\n",
    "# Assume new_user_id is the new user's ID and is within the correct range\n",
    "new_user_id = num_users  # This assumes that you're incrementing the last known user ID\n",
    "\n",
    "# Create an array of book IDs (encoded as in the training data)\n",
    "all_book_ids = np.arange(num_books)\n",
    "\n",
    "# Create an array for the user ID that matches the length of book IDs\n",
    "new_user_array = np.full_like(all_book_ids, fill_value=new_user_id)\n",
    "\n",
    "# Predict ratings for all user-item pairs\n",
    "new_user_predictions = model.predict([new_user_array, all_book_ids])\n",
    "\n",
    "# Inverse transform the ratings if they were normalized\n",
    "# Assuming 'ratings_scaler' was fit on the original ratings data\n",
    "new_user_predictions = ratings_scaler.inverse_transform(new_user_predictions)\n",
    "\n",
    "# Combine predictions with book IDs\n",
    "book_ratings = pd.DataFrame({\n",
    "    'ISBN': all_book_ids,\n",
    "    'Rating': new_user_predictions.flatten()\n",
    "})\n",
    "\n",
    "# Sort the books by predicted ratings in descending order\n",
    "recommended_books = book_ratings.sort_values(by='Rating', ascending=False)\n",
    "\n",
    "# Retrieve the top N recommendations\n",
    "top_n_books = recommended_books.head(10)\n",
    "\n",
    "# Use the mapping to get the book titles for the top recommended books\n",
    "top_n_books = recommended_books.head(10)\n",
    "top_n_books['Book-Title'] = top_n_books['ISBN'].apply(lambda x: book_id_to_title_map.get(x, \"Unknown\"))\n",
    "\n",
    "# Display the top N recommendations\n",
    "print(top_n_books[['Book-Title', 'Rating']])\n"
   ]
  }
 ],
 "metadata": {
  "kernelspec": {
   "display_name": "Python 3",
   "language": "python",
   "name": "python3"
  },
  "language_info": {
   "codemirror_mode": {
    "name": "ipython",
    "version": 3
   },
   "file_extension": ".py",
   "mimetype": "text/x-python",
   "name": "python",
   "nbconvert_exporter": "python",
   "pygments_lexer": "ipython3",
   "version": "3.10.10"
  }
 },
 "nbformat": 4,
 "nbformat_minor": 2
}
